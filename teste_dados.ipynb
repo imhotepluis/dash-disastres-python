{
 "cells": [
  {
   "cell_type": "code",
   "execution_count": 212,
   "id": "initial_id",
   "metadata": {
    "ExecuteTime": {
     "end_time": "2024-09-30T23:44:43.296151Z",
     "start_time": "2024-09-30T23:44:43.287442Z"
    },
    "collapsed": true
   },
   "outputs": [],
   "source": [
    "import pandas as pd\n",
    "import seaborn as sns"
   ]
  },
  {
   "cell_type": "code",
   "execution_count": 213,
   "id": "d04072e2727ac987",
   "metadata": {
    "ExecuteTime": {
     "end_time": "2024-09-30T23:49:57.083112Z",
     "start_time": "2024-09-30T23:49:57.059471Z"
    }
   },
   "outputs": [],
   "source": [
    "data = pd.read_csv('laptop_prices.CSV', sep=',')"
   ]
  },
  {
   "cell_type": "code",
   "execution_count": null,
   "id": "6268ff209cc1d686",
   "metadata": {
    "ExecuteTime": {
     "end_time": "2024-09-30T23:49:58.053080Z",
     "start_time": "2024-09-30T23:49:58.006549Z"
    }
   },
   "outputs": [],
   "source": [
    "data.head()"
   ]
  },
  {
   "cell_type": "code",
   "execution_count": null,
   "id": "3371b48ea095d5e5",
   "metadata": {
    "ExecuteTime": {
     "end_time": "2024-09-30T23:49:59.317440Z",
     "start_time": "2024-09-30T23:49:59.296926Z"
    }
   },
   "outputs": [],
   "source": [
    "data.info()"
   ]
  },
  {
   "cell_type": "code",
   "execution_count": null,
   "id": "f34e7f11",
   "metadata": {},
   "outputs": [],
   "source": [
    "dados_selecionados = data[['Company', 'Product', 'TypeName', 'Ram', 'OS', 'Price_euros', 'CPU_company', 'CPU_freq', 'CPU_model', 'PrimaryStorage', 'PrimaryStorageType', 'GPU_model']]\n",
    "dados_selecionados"
   ]
  },
  {
   "cell_type": "code",
   "execution_count": null,
   "id": "9544df8c",
   "metadata": {},
   "outputs": [],
   "source": [
    "dados_selecionados[dados_selecionados.isna().any(axis=1)]['Company']"
   ]
  },
  {
   "cell_type": "code",
   "execution_count": null,
   "id": "4380ac1e",
   "metadata": {},
   "outputs": [],
   "source": [
    "dados_selecionados[dados_selecionados.isna().any(axis=1)]['Company'].str.split(',', expand=True)"
   ]
  },
  {
   "cell_type": "code",
   "execution_count": null,
   "id": "84c8a50910e6cd31",
   "metadata": {
    "ExecuteTime": {
     "end_time": "2024-09-30T23:50:03.409099Z",
     "start_time": "2024-09-30T23:50:03.394247Z"
    }
   },
   "outputs": [],
   "source": [
    "dados_nulos_separados = dados_selecionados[dados_selecionados.isna().any(axis=1)]['Company'].str.split(',', expand=True)\n",
    "new_column_names = ['Company','Product','TypeName','Inches','Ram','OS','Weight','Price_euros','Screen','ScreenW','ScreenH','Touchscreen','IPSpanel','RetinaDisplay','CPU_company','CPU_freq','CPU_model','PrimaryStorage','SecondaryStorage','PrimaryStorageType','SecondaryStorageType','GPU_company','GPU_model']\n",
    "dados_nulos_separados.rename(columns=dict(zip(dados_nulos_separados.columns, new_column_names)), inplace=True)\n",
    "dados_nulos_separados"
   ]
  },
  {
   "cell_type": "code",
   "execution_count": null,
   "id": "24b1dd37",
   "metadata": {},
   "outputs": [],
   "source": [
    "dados_total = pd.concat([data, dados_nulos_separados], axis=0, ignore_index=True)\n",
    "dados_total"
   ]
  },
  {
   "cell_type": "code",
   "execution_count": 228,
   "id": "1bb21ec6",
   "metadata": {},
   "outputs": [],
   "source": [
    "dados_completo = dados_total.dropna(ignore_index=True)"
   ]
  },
  {
   "cell_type": "code",
   "execution_count": null,
   "id": "357c21e2",
   "metadata": {},
   "outputs": [],
   "source": [
    "dados_completo.info()"
   ]
  },
  {
   "cell_type": "code",
   "execution_count": null,
   "id": "4979d02c",
   "metadata": {},
   "outputs": [],
   "source": []
  }
 ],
 "metadata": {
  "kernelspec": {
   "display_name": "Python 3",
   "language": "python",
   "name": "python3"
  },
  "language_info": {
   "codemirror_mode": {
    "name": "ipython",
    "version": 3
   },
   "file_extension": ".py",
   "mimetype": "text/x-python",
   "name": "python",
   "nbconvert_exporter": "python",
   "pygments_lexer": "ipython3",
   "version": "3.11.7"
  }
 },
 "nbformat": 4,
 "nbformat_minor": 5
}
